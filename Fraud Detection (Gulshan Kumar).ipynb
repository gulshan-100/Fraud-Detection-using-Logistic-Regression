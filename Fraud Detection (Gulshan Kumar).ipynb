{
 "cells": [
  {
   "cell_type": "markdown",
   "id": "c00908bb",
   "metadata": {},
   "source": [
    "## Fraud Detection using Logistic Regression"
   ]
  },
  {
   "cell_type": "code",
   "execution_count": 44,
   "id": "71d8a9ea",
   "metadata": {},
   "outputs": [],
   "source": [
    "# Importing the Libraries\n",
    "\n",
    "import pandas as pd\n",
    "import numpy as np\n",
    "import matplotlib.pyplot as plt\n",
    "from sklearn.model_selection import train_test_split\n",
    "from sklearn.ensemble import RandomForestClassifier\n",
    "from sklearn.metrics import accuracy_score, confusion_matrix, classification_report"
   ]
  },
  {
   "cell_type": "code",
   "execution_count": 74,
   "id": "04092a2d",
   "metadata": {},
   "outputs": [],
   "source": [
    "# Loading the Dataset\n",
    "dataset = pd.read_csv('Fraud.csv')"
   ]
  },
  {
   "cell_type": "code",
   "execution_count": 75,
   "id": "9c9ceeb1",
   "metadata": {},
   "outputs": [
    {
     "data": {
      "text/plain": [
       "(6362620, 11)"
      ]
     },
     "execution_count": 75,
     "metadata": {},
     "output_type": "execute_result"
    }
   ],
   "source": [
    "#Checking the shape of the dataset\n",
    "dataset.shape"
   ]
  },
  {
   "cell_type": "code",
   "execution_count": 4,
   "id": "c7ee47dc",
   "metadata": {},
   "outputs": [
    {
     "data": {
      "text/html": [
       "<div>\n",
       "<style scoped>\n",
       "    .dataframe tbody tr th:only-of-type {\n",
       "        vertical-align: middle;\n",
       "    }\n",
       "\n",
       "    .dataframe tbody tr th {\n",
       "        vertical-align: top;\n",
       "    }\n",
       "\n",
       "    .dataframe thead th {\n",
       "        text-align: right;\n",
       "    }\n",
       "</style>\n",
       "<table border=\"1\" class=\"dataframe\">\n",
       "  <thead>\n",
       "    <tr style=\"text-align: right;\">\n",
       "      <th></th>\n",
       "      <th>step</th>\n",
       "      <th>type</th>\n",
       "      <th>amount</th>\n",
       "      <th>nameOrig</th>\n",
       "      <th>oldbalanceOrg</th>\n",
       "      <th>newbalanceOrig</th>\n",
       "      <th>nameDest</th>\n",
       "      <th>oldbalanceDest</th>\n",
       "      <th>newbalanceDest</th>\n",
       "      <th>isFraud</th>\n",
       "      <th>isFlaggedFraud</th>\n",
       "    </tr>\n",
       "  </thead>\n",
       "  <tbody>\n",
       "    <tr>\n",
       "      <th>0</th>\n",
       "      <td>1</td>\n",
       "      <td>PAYMENT</td>\n",
       "      <td>9839.64</td>\n",
       "      <td>C1231006815</td>\n",
       "      <td>170136.0</td>\n",
       "      <td>160296.36</td>\n",
       "      <td>M1979787155</td>\n",
       "      <td>0.0</td>\n",
       "      <td>0.0</td>\n",
       "      <td>0</td>\n",
       "      <td>0</td>\n",
       "    </tr>\n",
       "    <tr>\n",
       "      <th>1</th>\n",
       "      <td>1</td>\n",
       "      <td>PAYMENT</td>\n",
       "      <td>1864.28</td>\n",
       "      <td>C1666544295</td>\n",
       "      <td>21249.0</td>\n",
       "      <td>19384.72</td>\n",
       "      <td>M2044282225</td>\n",
       "      <td>0.0</td>\n",
       "      <td>0.0</td>\n",
       "      <td>0</td>\n",
       "      <td>0</td>\n",
       "    </tr>\n",
       "    <tr>\n",
       "      <th>2</th>\n",
       "      <td>1</td>\n",
       "      <td>TRANSFER</td>\n",
       "      <td>181.00</td>\n",
       "      <td>C1305486145</td>\n",
       "      <td>181.0</td>\n",
       "      <td>0.00</td>\n",
       "      <td>C553264065</td>\n",
       "      <td>0.0</td>\n",
       "      <td>0.0</td>\n",
       "      <td>1</td>\n",
       "      <td>0</td>\n",
       "    </tr>\n",
       "    <tr>\n",
       "      <th>3</th>\n",
       "      <td>1</td>\n",
       "      <td>CASH_OUT</td>\n",
       "      <td>181.00</td>\n",
       "      <td>C840083671</td>\n",
       "      <td>181.0</td>\n",
       "      <td>0.00</td>\n",
       "      <td>C38997010</td>\n",
       "      <td>21182.0</td>\n",
       "      <td>0.0</td>\n",
       "      <td>1</td>\n",
       "      <td>0</td>\n",
       "    </tr>\n",
       "    <tr>\n",
       "      <th>4</th>\n",
       "      <td>1</td>\n",
       "      <td>PAYMENT</td>\n",
       "      <td>11668.14</td>\n",
       "      <td>C2048537720</td>\n",
       "      <td>41554.0</td>\n",
       "      <td>29885.86</td>\n",
       "      <td>M1230701703</td>\n",
       "      <td>0.0</td>\n",
       "      <td>0.0</td>\n",
       "      <td>0</td>\n",
       "      <td>0</td>\n",
       "    </tr>\n",
       "  </tbody>\n",
       "</table>\n",
       "</div>"
      ],
      "text/plain": [
       "   step      type    amount     nameOrig  oldbalanceOrg  newbalanceOrig  \\\n",
       "0     1   PAYMENT   9839.64  C1231006815       170136.0       160296.36   \n",
       "1     1   PAYMENT   1864.28  C1666544295        21249.0        19384.72   \n",
       "2     1  TRANSFER    181.00  C1305486145          181.0            0.00   \n",
       "3     1  CASH_OUT    181.00   C840083671          181.0            0.00   \n",
       "4     1   PAYMENT  11668.14  C2048537720        41554.0        29885.86   \n",
       "\n",
       "      nameDest  oldbalanceDest  newbalanceDest  isFraud  isFlaggedFraud  \n",
       "0  M1979787155             0.0             0.0        0               0  \n",
       "1  M2044282225             0.0             0.0        0               0  \n",
       "2   C553264065             0.0             0.0        1               0  \n",
       "3    C38997010         21182.0             0.0        1               0  \n",
       "4  M1230701703             0.0             0.0        0               0  "
      ]
     },
     "execution_count": 4,
     "metadata": {},
     "output_type": "execute_result"
    }
   ],
   "source": [
    "dataset.head()"
   ]
  },
  {
   "cell_type": "markdown",
   "id": "cbe0d97b",
   "metadata": {},
   "source": [
    "### Check the number of missing values"
   ]
  },
  {
   "cell_type": "code",
   "execution_count": 5,
   "id": "38736383",
   "metadata": {},
   "outputs": [
    {
     "data": {
      "text/plain": [
       "step              0\n",
       "type              0\n",
       "amount            0\n",
       "nameOrig          0\n",
       "oldbalanceOrg     0\n",
       "newbalanceOrig    0\n",
       "nameDest          0\n",
       "oldbalanceDest    0\n",
       "newbalanceDest    0\n",
       "isFraud           0\n",
       "isFlaggedFraud    0\n",
       "dtype: int64"
      ]
     },
     "execution_count": 5,
     "metadata": {},
     "output_type": "execute_result"
    }
   ],
   "source": [
    "# Number of missing values\n",
    "dataset.isnull().sum()"
   ]
  },
  {
   "cell_type": "markdown",
   "id": "f6c78c01",
   "metadata": {},
   "source": [
    "### Check whether the dataset is balanced or imbalanced"
   ]
  },
  {
   "cell_type": "code",
   "execution_count": 6,
   "id": "80866658",
   "metadata": {},
   "outputs": [
    {
     "data": {
      "text/plain": [
       "isFraud\n",
       "0    6354407\n",
       "1       8213\n",
       "Name: count, dtype: int64"
      ]
     },
     "execution_count": 6,
     "metadata": {},
     "output_type": "execute_result"
    }
   ],
   "source": [
    "dataset['isFraud'].value_counts()"
   ]
  },
  {
   "cell_type": "markdown",
   "id": "dd17a186",
   "metadata": {},
   "source": [
    "#### It is highly imbalanced dataset, We need to balance it using UNDERSAMPLING technique."
   ]
  },
  {
   "cell_type": "code",
   "execution_count": 7,
   "id": "85278d5a",
   "metadata": {},
   "outputs": [],
   "source": [
    "# Separating the legit and fraudulent transactions\n",
    "legit = dataset[dataset.isFraud == 0]\n",
    "fraud = dataset[dataset.isFraud == 1]"
   ]
  },
  {
   "cell_type": "code",
   "execution_count": 8,
   "id": "0c63e8ae",
   "metadata": {},
   "outputs": [
    {
     "name": "stdout",
     "output_type": "stream",
     "text": [
      "(6354407, 11)\n",
      "(8213, 11)\n"
     ]
    }
   ],
   "source": [
    "print(legit.shape)\n",
    "print(fraud.shape)"
   ]
  },
  {
   "cell_type": "code",
   "execution_count": 9,
   "id": "3e85bba4",
   "metadata": {},
   "outputs": [],
   "source": [
    "legit_sample = legit.sample(n=8213)"
   ]
  },
  {
   "cell_type": "code",
   "execution_count": 10,
   "id": "8c445f63",
   "metadata": {},
   "outputs": [
    {
     "data": {
      "text/plain": [
       "(8213, 11)"
      ]
     },
     "execution_count": 10,
     "metadata": {},
     "output_type": "execute_result"
    }
   ],
   "source": [
    "legit_sample.shape"
   ]
  },
  {
   "cell_type": "code",
   "execution_count": 11,
   "id": "693283f5",
   "metadata": {},
   "outputs": [],
   "source": [
    "#concatenate \n",
    "d = pd.concat([legit_sample, fraud], axis = 0)"
   ]
  },
  {
   "cell_type": "code",
   "execution_count": 12,
   "id": "538da3d2",
   "metadata": {},
   "outputs": [
    {
     "data": {
      "text/plain": [
       "(16426, 11)"
      ]
     },
     "execution_count": 12,
     "metadata": {},
     "output_type": "execute_result"
    }
   ],
   "source": [
    "d.shape"
   ]
  },
  {
   "cell_type": "code",
   "execution_count": 49,
   "id": "a20e0c9c",
   "metadata": {},
   "outputs": [
    {
     "data": {
      "text/plain": [
       "isFraud\n",
       "0    8213\n",
       "1    8213\n",
       "Name: count, dtype: int64"
      ]
     },
     "execution_count": 49,
     "metadata": {},
     "output_type": "execute_result"
    }
   ],
   "source": [
    "d['isFraud'].value_counts()"
   ]
  },
  {
   "cell_type": "markdown",
   "id": "753e2b22",
   "metadata": {},
   "source": [
    "#### Now the data is balanced"
   ]
  },
  {
   "cell_type": "markdown",
   "id": "1087b309",
   "metadata": {},
   "source": [
    "### Use Label Encoding to deal with categorical data"
   ]
  },
  {
   "cell_type": "code",
   "execution_count": 14,
   "id": "a70b844c",
   "metadata": {},
   "outputs": [],
   "source": [
    "#Import the Label Encoder\n",
    "\n",
    "from sklearn.preprocessing import LabelEncoder\n",
    "label_encoder = LabelEncoder()"
   ]
  },
  {
   "cell_type": "code",
   "execution_count": 15,
   "id": "d8c23f1b",
   "metadata": {},
   "outputs": [],
   "source": [
    "#label encode the 'type' column\n",
    "d['type_encoded'] = label_encoder.fit_transform(d['type'])\n",
    "\n",
    "#label encode the 'nameOrig' column\n",
    "d['nameOrig_encoded'] = label_encoder.fit_transform(d['nameOrig'])\n",
    "\n",
    "#label encode the 'nameDest' column\n",
    "d['nameDest_encoded'] = label_encoder.fit_transform(d['nameDest'])"
   ]
  },
  {
   "cell_type": "code",
   "execution_count": 16,
   "id": "bc2198ee",
   "metadata": {},
   "outputs": [
    {
     "data": {
      "text/html": [
       "<div>\n",
       "<style scoped>\n",
       "    .dataframe tbody tr th:only-of-type {\n",
       "        vertical-align: middle;\n",
       "    }\n",
       "\n",
       "    .dataframe tbody tr th {\n",
       "        vertical-align: top;\n",
       "    }\n",
       "\n",
       "    .dataframe thead th {\n",
       "        text-align: right;\n",
       "    }\n",
       "</style>\n",
       "<table border=\"1\" class=\"dataframe\">\n",
       "  <thead>\n",
       "    <tr style=\"text-align: right;\">\n",
       "      <th></th>\n",
       "      <th>step</th>\n",
       "      <th>type</th>\n",
       "      <th>amount</th>\n",
       "      <th>nameOrig</th>\n",
       "      <th>oldbalanceOrg</th>\n",
       "      <th>newbalanceOrig</th>\n",
       "      <th>nameDest</th>\n",
       "      <th>oldbalanceDest</th>\n",
       "      <th>newbalanceDest</th>\n",
       "      <th>isFraud</th>\n",
       "      <th>isFlaggedFraud</th>\n",
       "      <th>type_encoded</th>\n",
       "      <th>nameOrig_encoded</th>\n",
       "      <th>nameDest_encoded</th>\n",
       "    </tr>\n",
       "  </thead>\n",
       "  <tbody>\n",
       "    <tr>\n",
       "      <th>1868849</th>\n",
       "      <td>164</td>\n",
       "      <td>CASH_IN</td>\n",
       "      <td>175967.36</td>\n",
       "      <td>C773964108</td>\n",
       "      <td>282.00</td>\n",
       "      <td>176249.36</td>\n",
       "      <td>C1340271509</td>\n",
       "      <td>57140.84</td>\n",
       "      <td>0.00</td>\n",
       "      <td>0</td>\n",
       "      <td>0</td>\n",
       "      <td>0</td>\n",
       "      <td>14468</td>\n",
       "      <td>2322</td>\n",
       "    </tr>\n",
       "    <tr>\n",
       "      <th>751312</th>\n",
       "      <td>38</td>\n",
       "      <td>TRANSFER</td>\n",
       "      <td>454549.05</td>\n",
       "      <td>C2037050050</td>\n",
       "      <td>0.00</td>\n",
       "      <td>0.00</td>\n",
       "      <td>C852518538</td>\n",
       "      <td>1122791.36</td>\n",
       "      <td>1577340.42</td>\n",
       "      <td>0</td>\n",
       "      <td>0</td>\n",
       "      <td>4</td>\n",
       "      <td>8871</td>\n",
       "      <td>12470</td>\n",
       "    </tr>\n",
       "    <tr>\n",
       "      <th>1270879</th>\n",
       "      <td>135</td>\n",
       "      <td>CASH_IN</td>\n",
       "      <td>324313.56</td>\n",
       "      <td>C1238662062</td>\n",
       "      <td>438388.95</td>\n",
       "      <td>762702.50</td>\n",
       "      <td>C899699848</td>\n",
       "      <td>454966.98</td>\n",
       "      <td>130653.42</td>\n",
       "      <td>0</td>\n",
       "      <td>0</td>\n",
       "      <td>0</td>\n",
       "      <td>2098</td>\n",
       "      <td>12807</td>\n",
       "    </tr>\n",
       "    <tr>\n",
       "      <th>5593810</th>\n",
       "      <td>394</td>\n",
       "      <td>CASH_IN</td>\n",
       "      <td>291466.42</td>\n",
       "      <td>C1878529523</td>\n",
       "      <td>30265.00</td>\n",
       "      <td>321731.42</td>\n",
       "      <td>C1606469602</td>\n",
       "      <td>0.00</td>\n",
       "      <td>0.00</td>\n",
       "      <td>0</td>\n",
       "      <td>0</td>\n",
       "      <td>0</td>\n",
       "      <td>7571</td>\n",
       "      <td>4201</td>\n",
       "    </tr>\n",
       "    <tr>\n",
       "      <th>1468864</th>\n",
       "      <td>140</td>\n",
       "      <td>PAYMENT</td>\n",
       "      <td>3061.77</td>\n",
       "      <td>C1212397383</td>\n",
       "      <td>31600.00</td>\n",
       "      <td>28538.23</td>\n",
       "      <td>M1517661863</td>\n",
       "      <td>0.00</td>\n",
       "      <td>0.00</td>\n",
       "      <td>0</td>\n",
       "      <td>0</td>\n",
       "      <td>3</td>\n",
       "      <td>1877</td>\n",
       "      <td>14211</td>\n",
       "    </tr>\n",
       "  </tbody>\n",
       "</table>\n",
       "</div>"
      ],
      "text/plain": [
       "         step      type     amount     nameOrig  oldbalanceOrg  \\\n",
       "1868849   164   CASH_IN  175967.36   C773964108         282.00   \n",
       "751312     38  TRANSFER  454549.05  C2037050050           0.00   \n",
       "1270879   135   CASH_IN  324313.56  C1238662062      438388.95   \n",
       "5593810   394   CASH_IN  291466.42  C1878529523       30265.00   \n",
       "1468864   140   PAYMENT    3061.77  C1212397383       31600.00   \n",
       "\n",
       "         newbalanceOrig     nameDest  oldbalanceDest  newbalanceDest  isFraud  \\\n",
       "1868849       176249.36  C1340271509        57140.84            0.00        0   \n",
       "751312             0.00   C852518538      1122791.36      1577340.42        0   \n",
       "1270879       762702.50   C899699848       454966.98       130653.42        0   \n",
       "5593810       321731.42  C1606469602            0.00            0.00        0   \n",
       "1468864        28538.23  M1517661863            0.00            0.00        0   \n",
       "\n",
       "         isFlaggedFraud  type_encoded  nameOrig_encoded  nameDest_encoded  \n",
       "1868849               0             0             14468              2322  \n",
       "751312                0             4              8871             12470  \n",
       "1270879               0             0              2098             12807  \n",
       "5593810               0             0              7571              4201  \n",
       "1468864               0             3              1877             14211  "
      ]
     },
     "execution_count": 16,
     "metadata": {},
     "output_type": "execute_result"
    }
   ],
   "source": [
    "d.head()"
   ]
  },
  {
   "cell_type": "code",
   "execution_count": 23,
   "id": "52ba470b",
   "metadata": {},
   "outputs": [],
   "source": [
    "a = d.drop(['type','nameOrig','nameDest'], axis=1)"
   ]
  },
  {
   "cell_type": "markdown",
   "id": "95b70c8b",
   "metadata": {},
   "source": [
    "### Split the Dataset into Features and Target Variable"
   ]
  },
  {
   "cell_type": "code",
   "execution_count": 24,
   "id": "37ab3c77",
   "metadata": {},
   "outputs": [],
   "source": [
    "# X -> Input features ; Y -> Target Variable\n",
    "\n",
    "X = a.drop(['isFraud'], axis=1)\n",
    "y = a['isFraud']"
   ]
  },
  {
   "cell_type": "markdown",
   "id": "7471f334",
   "metadata": {},
   "source": [
    "### Split the dataset into training and testing data"
   ]
  },
  {
   "cell_type": "code",
   "execution_count": 25,
   "id": "7131d86c",
   "metadata": {},
   "outputs": [],
   "source": [
    "X_train, X_test, y_train, y_test = train_test_split(X, y, test_size=0.2, random_state=42)"
   ]
  },
  {
   "cell_type": "code",
   "execution_count": 21,
   "id": "c994f490",
   "metadata": {},
   "outputs": [
    {
     "data": {
      "text/html": [
       "<div>\n",
       "<style scoped>\n",
       "    .dataframe tbody tr th:only-of-type {\n",
       "        vertical-align: middle;\n",
       "    }\n",
       "\n",
       "    .dataframe tbody tr th {\n",
       "        vertical-align: top;\n",
       "    }\n",
       "\n",
       "    .dataframe thead th {\n",
       "        text-align: right;\n",
       "    }\n",
       "</style>\n",
       "<table border=\"1\" class=\"dataframe\">\n",
       "  <thead>\n",
       "    <tr style=\"text-align: right;\">\n",
       "      <th></th>\n",
       "      <th>step</th>\n",
       "      <th>type</th>\n",
       "      <th>amount</th>\n",
       "      <th>nameOrig</th>\n",
       "      <th>oldbalanceOrg</th>\n",
       "      <th>newbalanceOrig</th>\n",
       "      <th>nameDest</th>\n",
       "      <th>oldbalanceDest</th>\n",
       "      <th>newbalanceDest</th>\n",
       "      <th>isFlaggedFraud</th>\n",
       "      <th>type_encoded</th>\n",
       "      <th>nameOrig_encoded</th>\n",
       "      <th>nameDest_encoded</th>\n",
       "    </tr>\n",
       "  </thead>\n",
       "  <tbody>\n",
       "    <tr>\n",
       "      <th>292640</th>\n",
       "      <td>15</td>\n",
       "      <td>PAYMENT</td>\n",
       "      <td>2351.82</td>\n",
       "      <td>C1454362657</td>\n",
       "      <td>10474.0</td>\n",
       "      <td>8122.18</td>\n",
       "      <td>M573720011</td>\n",
       "      <td>0.00</td>\n",
       "      <td>0.00</td>\n",
       "      <td>0</td>\n",
       "      <td>3</td>\n",
       "      <td>3889</td>\n",
       "      <td>15602</td>\n",
       "    </tr>\n",
       "    <tr>\n",
       "      <th>4937906</th>\n",
       "      <td>350</td>\n",
       "      <td>CASH_IN</td>\n",
       "      <td>95096.18</td>\n",
       "      <td>C1905056888</td>\n",
       "      <td>20958.0</td>\n",
       "      <td>116054.18</td>\n",
       "      <td>C1790831319</td>\n",
       "      <td>10805230.34</td>\n",
       "      <td>10710134.16</td>\n",
       "      <td>0</td>\n",
       "      <td>0</td>\n",
       "      <td>7796</td>\n",
       "      <td>5472</td>\n",
       "    </tr>\n",
       "    <tr>\n",
       "      <th>6201836</th>\n",
       "      <td>579</td>\n",
       "      <td>CASH_OUT</td>\n",
       "      <td>1540624.70</td>\n",
       "      <td>C1904414737</td>\n",
       "      <td>1540624.7</td>\n",
       "      <td>0.00</td>\n",
       "      <td>C2037994906</td>\n",
       "      <td>78012.35</td>\n",
       "      <td>1618637.05</td>\n",
       "      <td>0</td>\n",
       "      <td>1</td>\n",
       "      <td>7789</td>\n",
       "      <td>7191</td>\n",
       "    </tr>\n",
       "    <tr>\n",
       "      <th>176634</th>\n",
       "      <td>12</td>\n",
       "      <td>CASH_IN</td>\n",
       "      <td>25947.50</td>\n",
       "      <td>C2128048578</td>\n",
       "      <td>158.0</td>\n",
       "      <td>26105.50</td>\n",
       "      <td>C1688537809</td>\n",
       "      <td>0.00</td>\n",
       "      <td>0.00</td>\n",
       "      <td>0</td>\n",
       "      <td>0</td>\n",
       "      <td>9621</td>\n",
       "      <td>4791</td>\n",
       "    </tr>\n",
       "    <tr>\n",
       "      <th>6265699</th>\n",
       "      <td>614</td>\n",
       "      <td>CASH_OUT</td>\n",
       "      <td>5980.80</td>\n",
       "      <td>C1827873700</td>\n",
       "      <td>0.0</td>\n",
       "      <td>0.00</td>\n",
       "      <td>C350130544</td>\n",
       "      <td>81932.05</td>\n",
       "      <td>87912.85</td>\n",
       "      <td>0</td>\n",
       "      <td>1</td>\n",
       "      <td>7131</td>\n",
       "      <td>8979</td>\n",
       "    </tr>\n",
       "  </tbody>\n",
       "</table>\n",
       "</div>"
      ],
      "text/plain": [
       "         step      type      amount     nameOrig  oldbalanceOrg  \\\n",
       "292640     15   PAYMENT     2351.82  C1454362657        10474.0   \n",
       "4937906   350   CASH_IN    95096.18  C1905056888        20958.0   \n",
       "6201836   579  CASH_OUT  1540624.70  C1904414737      1540624.7   \n",
       "176634     12   CASH_IN    25947.50  C2128048578          158.0   \n",
       "6265699   614  CASH_OUT     5980.80  C1827873700            0.0   \n",
       "\n",
       "         newbalanceOrig     nameDest  oldbalanceDest  newbalanceDest  \\\n",
       "292640          8122.18   M573720011            0.00            0.00   \n",
       "4937906       116054.18  C1790831319     10805230.34     10710134.16   \n",
       "6201836            0.00  C2037994906        78012.35      1618637.05   \n",
       "176634         26105.50  C1688537809            0.00            0.00   \n",
       "6265699            0.00   C350130544        81932.05        87912.85   \n",
       "\n",
       "         isFlaggedFraud  type_encoded  nameOrig_encoded  nameDest_encoded  \n",
       "292640                0             3              3889             15602  \n",
       "4937906               0             0              7796              5472  \n",
       "6201836               0             1              7789              7191  \n",
       "176634                0             0              9621              4791  \n",
       "6265699               0             1              7131              8979  "
      ]
     },
     "execution_count": 21,
     "metadata": {},
     "output_type": "execute_result"
    }
   ],
   "source": [
    "X_train.head()"
   ]
  },
  {
   "cell_type": "code",
   "execution_count": 26,
   "id": "b223b882",
   "metadata": {},
   "outputs": [
    {
     "data": {
      "text/plain": [
       "292640     0\n",
       "4937906    0\n",
       "6201836    1\n",
       "176634     0\n",
       "6265699    0\n",
       "Name: isFraud, dtype: int64"
      ]
     },
     "execution_count": 26,
     "metadata": {},
     "output_type": "execute_result"
    }
   ],
   "source": [
    "y_train.head()"
   ]
  },
  {
   "cell_type": "markdown",
   "id": "8abf6193",
   "metadata": {},
   "source": [
    "## Initialize and train the Random Forest classifier"
   ]
  },
  {
   "cell_type": "code",
   "execution_count": 34,
   "id": "133da7cc",
   "metadata": {},
   "outputs": [
    {
     "data": {
      "text/html": [
       "<style>#sk-container-id-2 {color: black;}#sk-container-id-2 pre{padding: 0;}#sk-container-id-2 div.sk-toggleable {background-color: white;}#sk-container-id-2 label.sk-toggleable__label {cursor: pointer;display: block;width: 100%;margin-bottom: 0;padding: 0.3em;box-sizing: border-box;text-align: center;}#sk-container-id-2 label.sk-toggleable__label-arrow:before {content: \"▸\";float: left;margin-right: 0.25em;color: #696969;}#sk-container-id-2 label.sk-toggleable__label-arrow:hover:before {color: black;}#sk-container-id-2 div.sk-estimator:hover label.sk-toggleable__label-arrow:before {color: black;}#sk-container-id-2 div.sk-toggleable__content {max-height: 0;max-width: 0;overflow: hidden;text-align: left;background-color: #f0f8ff;}#sk-container-id-2 div.sk-toggleable__content pre {margin: 0.2em;color: black;border-radius: 0.25em;background-color: #f0f8ff;}#sk-container-id-2 input.sk-toggleable__control:checked~div.sk-toggleable__content {max-height: 200px;max-width: 100%;overflow: auto;}#sk-container-id-2 input.sk-toggleable__control:checked~label.sk-toggleable__label-arrow:before {content: \"▾\";}#sk-container-id-2 div.sk-estimator input.sk-toggleable__control:checked~label.sk-toggleable__label {background-color: #d4ebff;}#sk-container-id-2 div.sk-label input.sk-toggleable__control:checked~label.sk-toggleable__label {background-color: #d4ebff;}#sk-container-id-2 input.sk-hidden--visually {border: 0;clip: rect(1px 1px 1px 1px);clip: rect(1px, 1px, 1px, 1px);height: 1px;margin: -1px;overflow: hidden;padding: 0;position: absolute;width: 1px;}#sk-container-id-2 div.sk-estimator {font-family: monospace;background-color: #f0f8ff;border: 1px dotted black;border-radius: 0.25em;box-sizing: border-box;margin-bottom: 0.5em;}#sk-container-id-2 div.sk-estimator:hover {background-color: #d4ebff;}#sk-container-id-2 div.sk-parallel-item::after {content: \"\";width: 100%;border-bottom: 1px solid gray;flex-grow: 1;}#sk-container-id-2 div.sk-label:hover label.sk-toggleable__label {background-color: #d4ebff;}#sk-container-id-2 div.sk-serial::before {content: \"\";position: absolute;border-left: 1px solid gray;box-sizing: border-box;top: 0;bottom: 0;left: 50%;z-index: 0;}#sk-container-id-2 div.sk-serial {display: flex;flex-direction: column;align-items: center;background-color: white;padding-right: 0.2em;padding-left: 0.2em;position: relative;}#sk-container-id-2 div.sk-item {position: relative;z-index: 1;}#sk-container-id-2 div.sk-parallel {display: flex;align-items: stretch;justify-content: center;background-color: white;position: relative;}#sk-container-id-2 div.sk-item::before, #sk-container-id-2 div.sk-parallel-item::before {content: \"\";position: absolute;border-left: 1px solid gray;box-sizing: border-box;top: 0;bottom: 0;left: 50%;z-index: -1;}#sk-container-id-2 div.sk-parallel-item {display: flex;flex-direction: column;z-index: 1;position: relative;background-color: white;}#sk-container-id-2 div.sk-parallel-item:first-child::after {align-self: flex-end;width: 50%;}#sk-container-id-2 div.sk-parallel-item:last-child::after {align-self: flex-start;width: 50%;}#sk-container-id-2 div.sk-parallel-item:only-child::after {width: 0;}#sk-container-id-2 div.sk-dashed-wrapped {border: 1px dashed gray;margin: 0 0.4em 0.5em 0.4em;box-sizing: border-box;padding-bottom: 0.4em;background-color: white;}#sk-container-id-2 div.sk-label label {font-family: monospace;font-weight: bold;display: inline-block;line-height: 1.2em;}#sk-container-id-2 div.sk-label-container {text-align: center;}#sk-container-id-2 div.sk-container {/* jupyter's `normalize.less` sets `[hidden] { display: none; }` but bootstrap.min.css set `[hidden] { display: none !important; }` so we also need the `!important` here to be able to override the default hidden behavior on the sphinx rendered scikit-learn.org. See: https://github.com/scikit-learn/scikit-learn/issues/21755 */display: inline-block !important;position: relative;}#sk-container-id-2 div.sk-text-repr-fallback {display: none;}</style><div id=\"sk-container-id-2\" class=\"sk-top-container\"><div class=\"sk-text-repr-fallback\"><pre>RandomForestClassifier()</pre><b>In a Jupyter environment, please rerun this cell to show the HTML representation or trust the notebook. <br />On GitHub, the HTML representation is unable to render, please try loading this page with nbviewer.org.</b></div><div class=\"sk-container\" hidden><div class=\"sk-item\"><div class=\"sk-estimator sk-toggleable\"><input class=\"sk-toggleable__control sk-hidden--visually\" id=\"sk-estimator-id-2\" type=\"checkbox\" checked><label for=\"sk-estimator-id-2\" class=\"sk-toggleable__label sk-toggleable__label-arrow\">RandomForestClassifier</label><div class=\"sk-toggleable__content\"><pre>RandomForestClassifier()</pre></div></div></div></div></div>"
      ],
      "text/plain": [
       "RandomForestClassifier()"
      ]
     },
     "execution_count": 34,
     "metadata": {},
     "output_type": "execute_result"
    }
   ],
   "source": [
    "model = RandomForestClassifier()\n",
    "model.fit(X_train, y_train)"
   ]
  },
  {
   "cell_type": "markdown",
   "id": "a707b998",
   "metadata": {},
   "source": [
    "### Predict "
   ]
  },
  {
   "cell_type": "code",
   "execution_count": 72,
   "id": "51233d30",
   "metadata": {},
   "outputs": [
    {
     "name": "stdout",
     "output_type": "stream",
     "text": [
      "1.0\n"
     ]
    }
   ],
   "source": [
    "x_train_pred = model.predict(X_train)\n",
    "\n",
    "#Accuracy score on training data\n",
    "print(accuracy_score(x_train_pred, y_train))"
   ]
  },
  {
   "cell_type": "code",
   "execution_count": 68,
   "id": "95e9916c",
   "metadata": {},
   "outputs": [
    {
     "data": {
      "text/html": [
       "<div>\n",
       "<style scoped>\n",
       "    .dataframe tbody tr th:only-of-type {\n",
       "        vertical-align: middle;\n",
       "    }\n",
       "\n",
       "    .dataframe tbody tr th {\n",
       "        vertical-align: top;\n",
       "    }\n",
       "\n",
       "    .dataframe thead th {\n",
       "        text-align: right;\n",
       "    }\n",
       "</style>\n",
       "<table border=\"1\" class=\"dataframe\">\n",
       "  <thead>\n",
       "    <tr style=\"text-align: right;\">\n",
       "      <th></th>\n",
       "      <th>0</th>\n",
       "    </tr>\n",
       "  </thead>\n",
       "  <tbody>\n",
       "    <tr>\n",
       "      <th>0</th>\n",
       "      <td>0</td>\n",
       "    </tr>\n",
       "    <tr>\n",
       "      <th>1</th>\n",
       "      <td>0</td>\n",
       "    </tr>\n",
       "    <tr>\n",
       "      <th>2</th>\n",
       "      <td>1</td>\n",
       "    </tr>\n",
       "    <tr>\n",
       "      <th>3</th>\n",
       "      <td>0</td>\n",
       "    </tr>\n",
       "    <tr>\n",
       "      <th>4</th>\n",
       "      <td>0</td>\n",
       "    </tr>\n",
       "    <tr>\n",
       "      <th>...</th>\n",
       "      <td>...</td>\n",
       "    </tr>\n",
       "    <tr>\n",
       "      <th>13135</th>\n",
       "      <td>1</td>\n",
       "    </tr>\n",
       "    <tr>\n",
       "      <th>13136</th>\n",
       "      <td>1</td>\n",
       "    </tr>\n",
       "    <tr>\n",
       "      <th>13137</th>\n",
       "      <td>0</td>\n",
       "    </tr>\n",
       "    <tr>\n",
       "      <th>13138</th>\n",
       "      <td>0</td>\n",
       "    </tr>\n",
       "    <tr>\n",
       "      <th>13139</th>\n",
       "      <td>1</td>\n",
       "    </tr>\n",
       "  </tbody>\n",
       "</table>\n",
       "<p>13140 rows × 1 columns</p>\n",
       "</div>"
      ],
      "text/plain": [
       "       0\n",
       "0      0\n",
       "1      0\n",
       "2      1\n",
       "3      0\n",
       "4      0\n",
       "...   ..\n",
       "13135  1\n",
       "13136  1\n",
       "13137  0\n",
       "13138  0\n",
       "13139  1\n",
       "\n",
       "[13140 rows x 1 columns]"
      ]
     },
     "execution_count": 68,
     "metadata": {},
     "output_type": "execute_result"
    }
   ],
   "source": [
    "pd.DataFrame(y_pred)"
   ]
  },
  {
   "cell_type": "markdown",
   "id": "b6326889",
   "metadata": {},
   "source": [
    "### Accuracy score"
   ]
  },
  {
   "cell_type": "code",
   "execution_count": 73,
   "id": "88e7d3aa",
   "metadata": {},
   "outputs": [
    {
     "name": "stdout",
     "output_type": "stream",
     "text": [
      "0.9917833231892879\n"
     ]
    }
   ],
   "source": [
    "#Accuracy score on testing data\n",
    "\n",
    "y_pred = model.predict(X_test)\n",
    "print(accuracy_score(y_pred, y_test))"
   ]
  },
  {
   "cell_type": "code",
   "execution_count": 59,
   "id": "801b4c2b",
   "metadata": {},
   "outputs": [
    {
     "name": "stdout",
     "output_type": "stream",
     "text": [
      "              precision    recall  f1-score   support\n",
      "\n",
      "           0       0.99      1.00      0.99      1630\n",
      "           1       1.00      0.99      0.99      1656\n",
      "\n",
      "    accuracy                           0.99      3286\n",
      "   macro avg       0.99      0.99      0.99      3286\n",
      "weighted avg       0.99      0.99      0.99      3286\n",
      "\n"
     ]
    }
   ],
   "source": [
    "#Classification report\n",
    "print(classification_report(y_pred, y_test))"
   ]
  },
  {
   "cell_type": "code",
   "execution_count": 60,
   "id": "031316e4",
   "metadata": {},
   "outputs": [
    {
     "name": "stdout",
     "output_type": "stream",
     "text": [
      "[[1626   23]\n",
      " [   4 1633]]\n"
     ]
    }
   ],
   "source": [
    "#Confusion Matrix\n",
    "print(confusion_matrix(y_test, y_pred))"
   ]
  }
 ],
 "metadata": {
  "kernelspec": {
   "display_name": "Python 3 (ipykernel)",
   "language": "python",
   "name": "python3"
  },
  "language_info": {
   "codemirror_mode": {
    "name": "ipython",
    "version": 3
   },
   "file_extension": ".py",
   "mimetype": "text/x-python",
   "name": "python",
   "nbconvert_exporter": "python",
   "pygments_lexer": "ipython3",
   "version": "3.11.5"
  }
 },
 "nbformat": 4,
 "nbformat_minor": 5
}
